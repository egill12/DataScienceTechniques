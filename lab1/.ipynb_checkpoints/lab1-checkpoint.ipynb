{
 "cells": [
  {
   "cell_type": "code",
   "execution_count": null,
   "metadata": {
    "collapsed": true
   },
   "outputs": [],
   "source": [
    "''''\n",
    "Lab 1:\n",
    " Iris dataset\n",
    "'''\n",
    "\n",
    "import pandas as pd\n",
    "from matplotlib import pyplot as plt\n",
    "\n",
    "file_name = \"iris.csv\"\n",
    "data = pd.read_csv(file_name)\n",
    "print(data.columns)\n",
    "\n",
    "print(data.head())\n",
    "#plt.plot(data['PetalWidthCm'],data['SepalWidthCm'])\n",
    "\n",
    "species = set(data['Species'])\n",
    "mean_values = pd.DataFrame()\n",
    "var_values = pd.DataFrame()\n",
    "\n",
    "for plant in species:\n",
    "     mean_values[plant] = data[data['Species']== plant].mean()\n",
    "     var_values[plant] = data[data['Species']== plant].var()\n",
    "\n",
    "diff_virgin = data[data[\"Species\"] == \"Iris-virginica\"].sub(mean_values[\"Iris-virginica\"])\n",
    "diff_versi = data[data[\"Species\"] == \"Iris-versicolor\"].sub(mean_values[\"Iris-versicolor\"])\n",
    "diff_setosa = data[data[\"Species\"] == \"Iris-setosa\"].sub(mean_values[\"Iris-setosa\"])\n"
   ]
  }
 ],
 "metadata": {
  "kernelspec": {
   "display_name": "Python 3",
   "language": "python",
   "name": "python3"
  },
  "language_info": {
   "codemirror_mode": {
    "name": "ipython",
    "version": 3
   },
   "file_extension": ".py",
   "mimetype": "text/x-python",
   "name": "python",
   "nbconvert_exporter": "python",
   "pygments_lexer": "ipython3",
   "version": "3.6.3"
  }
 },
 "nbformat": 4,
 "nbformat_minor": 1
}
