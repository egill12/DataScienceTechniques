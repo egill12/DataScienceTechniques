{
 "cells": [
  {
   "cell_type": "code",
   "execution_count": 8,
   "metadata": {
    "collapsed": true
   },
   "outputs": [],
   "source": [
    "import pandas as pd\n",
    "import sqlite3 as sql\n",
    "table_name = \"Country\"\n",
    "path = r\"C:/Users/edgil/Documents/Masters/DSTA/cw1/db/database.sqlite\"\n",
    "sql_conn = sql.connect(path)\n",
    "sql_query = \"SELECT * FROM MATCH WHERE country_id = 1729 AND home_team_api_id in (10260,9825,10261)\"\n",
    "dataDump = pd.read_sql(sql_query, sql_conn)\n",
    "dataDump.to_csv(table_name + \".csv\", encoding = \"utf-16\")\n",
    "sql_conn.close()"
   ]
  },
  {
   "cell_type": "code",
   "execution_count": 50,
   "metadata": {},
   "outputs": [
    {
     "name": "stderr",
     "output_type": "stream",
     "text": [
      "C:\\Users\\edgil\\AppData\\Local\\Programs\\Python\\Python36\\lib\\site-packages\\ipykernel_launcher.py:5: SettingWithCopyWarning: \nA value is trying to be set on a copy of a slice from a DataFrame.\nTry using .loc[row_indexer,col_indexer] = value instead\n\nSee the caveats in the documentation: http://pandas.pydata.org/pandas-docs/stable/indexing.html#indexing-view-versus-copy\n  \"\"\"\nC:\\Users\\edgil\\AppData\\Local\\Programs\\Python\\Python36\\lib\\site-packages\\ipykernel_launcher.py:6: SettingWithCopyWarning: \nA value is trying to be set on a copy of a slice from a DataFrame.\nTry using .loc[row_indexer,col_indexer] = value instead\n\nSee the caveats in the documentation: http://pandas.pydata.org/pandas-docs/stable/indexing.html#indexing-view-versus-copy\n  \n"
     ]
    },
    {
     "data": {
      "image/png": "[encoded data removed]",
      "text/plain": [
       "<matplotlib.figure.Figure at 0x1329930>"
      ]
     },
     "metadata": {},
     "output_type": "display_data"
    }
   ],
   "source": [
    "from matplotlib import pyplot as plt\n",
    "\n",
    "man_utd_home = db[db['home_team_api_id'] == 10260]\n",
    "newc_home = db[db['home_team_api_id'] == 10261]\n",
    "man_utd_home['goal_spread'] = man_utd_home['home_team_goal']- man_utd_home['away_team_goal']\n",
    "man_utd_away['goal_spread'] = man_utd_away['away_team_goal']- man_utd_away['home_team_goal']\n",
    "plt.figure(2)\n",
    "plt.hist(man_utd_home['B365H'])\n",
    "plt.hist(newc_home['B365A'])\n",
    "plt.show()\n",
    "\n",
    "#print(man_utd_home[['home_team_goal','away_team_goal']])"
   ]
  },
  {
   "cell_type": "code",
   "execution_count": 49,
   "metadata": {},
   "outputs": [
    {
     "data": {
      "text/plain": [
       "(152, 116)"
      ]
     },
     "execution_count": 49,
     "metadata": {},
     "output_type": "execute_result"
    }
   ],
   "source": [
    "man_utd_home.shape"
   ]
  }
 ],
 "metadata": {
  "kernelspec": {
   "display_name": "Python 2",
   "language": "python",
   "name": "python2"
  },
  "language_info": {
   "codemirror_mode": {
    "name": "ipython",
    "version": 2
   },
   "file_extension": ".py",
   "mimetype": "text/x-python",
   "name": "python",
   "nbconvert_exporter": "python",
   "pygments_lexer": "ipython2",
   "version": "2.7.6"
  }
 },
 "nbformat": 4,
 "nbformat_minor": 0
}
